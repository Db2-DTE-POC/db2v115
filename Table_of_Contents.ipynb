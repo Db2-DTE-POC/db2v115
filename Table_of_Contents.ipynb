{
 "cells": [
  {
   "cell_type": "markdown",
   "metadata": {},
   "source": [
    "![](./media/dte-header.jpg)\n",
    "<a id=\"top\">"
   ]
  },
  {
   "cell_type": "markdown",
   "metadata": {},
   "source": [
    "# Db2 11.5 Features and Functions\n",
    "Welcome to this Db2 lab that highlights the new features of Db2 11.5. This system demonstrates the new Db2 11.5 features through the use of Jupyter notebooks. If you are not familiar with the use of Jupyter notebooks or Python, the following notebook will guide you through their usage.\n",
    "\n",
    "* [An Introduction to Jupyter Notebooks](./An_Introduction_to_Jupyter_Notebooks.ipynb)\n",
    "\n",
    "These set of notebooks cover some of the new SQL functionality that was delivered in Db2 11.5. This set of notebooks include an introduction to the new ISO JSON functions. These functions were delivered late in the 11.1 release (FP4) but are being published here because of their importance.\n",
    "\n",
    "* [Oracle, Open Source and Netezza SQL Enhancements](./Db2_11.5_SQL_Enhancements.ipynb)\n",
    "* [An Introduction to External Tables](./Db2_11.5_External_Tables.ipynb)\n",
    "* [Db2 ISO SQL JSON Function Overview](./Db2_11.5_ISO_JSON_Functions.ipynb)\n",
    "* [Db2 Version 11 JSON Highlights **eBook**](./media/Db2V11-JSON-ebook.pdf)"
   ]
  },
  {
   "cell_type": "markdown",
   "metadata": {},
   "source": [
    "## Db2 Magic Commands\n",
    "\n",
    "Db2 Magic commands are used in all of the notebooks used in the previous section. The following notebook provides a tutorial on basics of using the Db2 magic commands.\n",
    "\n",
    "* [An Introduction to Db2 Magic Commands](./Db2_Jupyter_Extensions_Tutorial.ipynb)"
   ]
  },
  {
   "cell_type": "markdown",
   "metadata": {},
   "source": [
    "#### Questions and Comments: George Baklarz [baklarz@ca.ibm.com]"
   ]
  }
 ],
 "metadata": {
  "kernelspec": {
   "display_name": "Python 3",
   "language": "python",
   "name": "python3"
  },
  "language_info": {
   "codemirror_mode": {
    "name": "ipython",
    "version": 3
   },
   "file_extension": ".py",
   "mimetype": "text/x-python",
   "name": "python",
   "nbconvert_exporter": "python",
   "pygments_lexer": "ipython3",
   "version": "3.7.4"
  }
 },
 "nbformat": 4,
 "nbformat_minor": 2
}
