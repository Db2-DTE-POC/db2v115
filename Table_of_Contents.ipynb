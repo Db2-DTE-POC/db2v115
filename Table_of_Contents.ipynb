{
 "cells": [
  {
   "cell_type": "markdown",
   "metadata": {},
   "source": [
    "![](./media/dte-header.jpg)\n",
    "<a id=\"top\">"
   ]
  },
  {
   "cell_type": "markdown",
   "metadata": {},
   "source": [
    "# Db2 11 Features and Functions\n",
    "Welcome to this Db2 lab that highlights the new features of Db2 11. This system demonstrates the new Db2 11 features through the use of Jupyter notebooks. If you are not familiar with the use of Jupyter notebooks or Python, the following notebook will guide you through their usage.\n",
    "\n",
    "* [An Introduction to Jupyter Notebooks](./An_Introduction_to_Jupyter_Notebooks.ipynb)\n",
    "\n",
    "These set of notebooks cover some of the new SQL functionality that was delivered in Db2 11.1. Note that two of the notebooks cover the JSON functions that were added to Db2 in 10.5 and officially published in 11.1. These functions are used to support the MongoDB compatibility features in Db2, but are not part of the SQL standard. If you want to use the official JSON functions then you need to use Db2 11.5.\n",
    "\n",
    "* [Oracle, Open Source and Netezza SQL Compatibility Features](./Db2_11.1_Compatibility_Features.ipynb)\n",
    "* [Regular Expressions](./Db2_11.1_Regular_Expressions.ipynb)\n",
    "* [Row and Column Access Control](./Db2_11.1_Row_and_Column_Access_Control.ipynb)\n",
    "* [Updated Statistical Functions](./Db2_11.1_Statistical_Functions.ipynb)\n",
    "* [Time and Date Functions](./Db2_11.1_Time_and_Date_Functions.ipynb)\n",
    "* [JSON Features (SYSTOOLS)](./Db2_11.1_JSON_Features_SYSTOOLS.ipynb)\n",
    "* [Advanced Db2 JSON Techniques (SYSTOOLS)](./Db2_11.1_Advanced_Db2_JSON_Techniques_SYSTOOLS.ipynb)\n",
    "* [Db2 Version 11 Highlights - **eBook**](./media/Db2V11-ebook.pdf)"
   ]
  },
  {
   "cell_type": "markdown",
   "metadata": {},
   "source": [
    "## Db2 Magic Commands\n",
    "\n",
    "Db2 Magic commands are used in all of the notebooks used in the previous section. The following notebook provides a tutorial on basics of using the Db2 magic commands.\n",
    "\n",
    "* [An Introduction to Db2 Magic Commands](./Db2_Jupyter_Extensions_Tutorial.ipynb)"
   ]
  },
  {
   "cell_type": "markdown",
   "metadata": {},
   "source": [
    "#### Questions and Comments: George Baklarz [baklarz@ca.ibm.com]"
   ]
  }
 ],
 "metadata": {
  "kernelspec": {
   "display_name": "Python 3",
   "language": "python",
   "name": "python3"
  },
  "language_info": {
   "codemirror_mode": {
    "name": "ipython",
    "version": 3
   },
   "file_extension": ".py",
   "mimetype": "text/x-python",
   "name": "python",
   "nbconvert_exporter": "python",
   "pygments_lexer": "ipython3",
   "version": "3.7.4"
  }
 },
 "nbformat": 4,
 "nbformat_minor": 2
}
